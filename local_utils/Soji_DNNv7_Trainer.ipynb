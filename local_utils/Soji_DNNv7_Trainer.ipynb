{
  "nbformat": 4,
  "nbformat_minor": 0,
  "metadata": {
    "colab": {
      "name": "Soji-DNNv7 Trainer.ipynb",
      "provenance": [],
      "collapsed_sections": [],
      "include_colab_link": true
    },
    "kernelspec": {
      "name": "python3",
      "display_name": "Python 3"
    },
    "language_info": {
      "name": "python"
    },
    "accelerator": "GPU",
    "gpuClass": "standard"
  },
  "cells": [
    {
      "cell_type": "markdown",
      "metadata": {
        "id": "view-in-github",
        "colab_type": "text"
      },
      "source": [
        "<a href=\"https://colab.research.google.com/github/superfast852/Soji-DNN/blob/main/local_utils/Soji_DNNv7_Trainer.ipynb\" target=\"_parent\"><img src=\"https://colab.research.google.com/assets/colab-badge.svg\" alt=\"Open In Colab\"/></a>"
      ]
    },
    {
      "cell_type": "code",
      "execution_count": null,
      "metadata": {
        "id": "b0iYsNmzhrjC"
      },
      "outputs": [],
      "source": [
        "!git clone https://github.com/WongKinYiu/yolov7\n",
        "%cd yolov7\n",
        "!pip install -r requirements.txt\n",
        "!pip install roboflow\n",
        "!pip install wandb"
      ]
    },
    {
      "cell_type": "code",
      "source": [
        "import roboflow\n",
        "import os\n",
        "\n",
        "rf = roboflow.Roboflow(api_key=\"UFW8aPqMAFfN1MuAv9wU\")\n",
        "os.environ[\"DATASET_DIRECTORY\"]=\"/content/datasets\"\n",
        "project = rf.workspace(\"ggeeml\").project(\"aquatrash-demo\")\n",
        "dataset = project.version(5).download(\"yolov7\")"
      ],
      "metadata": {
        "id": "oiB1vW0Ti7sz"
      },
      "execution_count": null,
      "outputs": []
    },
    {
      "cell_type": "code",
      "source": [
        "%cd ..\n",
        "from google.colab import drive, files\n",
        "import shutil\n",
        "drive.mount('/content/drive')\n",
        "%cd content\n",
        "import wandb\n",
        "wandb.login()\n",
        "%cd yolov7\n",
        "#swap res to 416 for lower gflops\n",
        "!python train.py --workers 8 --device 0 --batch-size 64 --data {dataset.location}/data.yaml --img 416 416 --cfg cfg/training/yolov7-tiny.yaml --weights '' --name yolov7t_aquaflow --hyp data/hyp.scratch.p5.yaml --epochs 400"
      ],
      "metadata": {
        "id": "_08Xw8dkoGzY"
      },
      "execution_count": null,
      "outputs": []
    },
    {
      "cell_type": "code",
      "source": [
        "%cd ..\n",
        "%rm -r output\n",
        "%mkdir output\n",
        "%cp -r yolov7/runs/train output\n",
        "\n",
        "shutil.make_archive(\"v7t-p5hyps-aquatrash\", 'zip', 'output')\n",
        "%cp v7t-p5hyps-aquatrash.zip drive/MyDrive/ML\n",
        "files.download(\"v7t-p5hyps-aquatrash.zip\")"
      ],
      "metadata": {
        "id": "KHyxjHifxTmP"
      },
      "execution_count": null,
      "outputs": []
    }
  ]
}